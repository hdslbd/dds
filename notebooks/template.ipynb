{
 "cells": [
  {
   "cell_type": "markdown",
   "id": "9d32c89d-08f1-481a-bbb9-ba01cd692a1b",
   "metadata": {},
   "source": [
    "## Problem\n",
    "Accurate and early detection of breast cancer plays a vital role in improving patient outcomes and survival rates. However, existing detection methods often have limitations in terms of accuracy and efficiency. The aim of this project is to develop an advanced breast cancer detection system using Support Vector Machines (SVM) that can effectively classify breast tissue samples as malignant or benign, enabling timely intervention and improved patient care.\n",
    "\n",
    "## Objective (s)\n",
    "Develop a breast cancer detection system using Support Vector Machines (SVM) that can accurately classify breast tissue samples as malignant or benign."
   ]
  },
  {
   "cell_type": "code",
   "execution_count": 2,
   "id": "4af9006e-b3d8-427d-98be-1e5050d7a853",
   "metadata": {},
   "outputs": [],
   "source": [
    "# Load libraries\n",
    "import numpy as np \n",
    "import pandas as pd\n",
    "import researchpy as rp \n",
    "import matplotlib.pyplot as plt \n",
    "import seaborn as sns "
   ]
  },
  {
   "cell_type": "code",
   "execution_count": 26,
   "id": "52e53b2a-3740-49c7-b1fd-96da669d70e4",
   "metadata": {},
   "outputs": [],
   "source": [
    "from ucimlrepo import fetch_ucirepo \n",
    "  \n",
    "# fetch dataset \n",
    "estimation_of_obesity_levels_based_on_eating_habits_and_physical_condition = fetch_ucirepo(id=544) \n",
    "  \n",
    "# data (as pandas dataframes) \n",
    "X = estimation_of_obesity_levels_based_on_eating_habits_and_physical_condition.data.features \n",
    "y = estimation_of_obesity_levels_based_on_eating_habits_and_physical_condition.data.targets \n",
    "  "
   ]
  },
  {
   "cell_type": "code",
   "execution_count": 27,
   "id": "9a68044f-d6dc-41f9-961a-c5366c6fccbe",
   "metadata": {},
   "outputs": [
    {
     "data": {
      "text/html": [
       "<div>\n",
       "<style scoped>\n",
       "    .dataframe tbody tr th:only-of-type {\n",
       "        vertical-align: middle;\n",
       "    }\n",
       "\n",
       "    .dataframe tbody tr th {\n",
       "        vertical-align: top;\n",
       "    }\n",
       "\n",
       "    .dataframe thead th {\n",
       "        text-align: right;\n",
       "    }\n",
       "</style>\n",
       "<table border=\"1\" class=\"dataframe\">\n",
       "  <thead>\n",
       "    <tr style=\"text-align: right;\">\n",
       "      <th></th>\n",
       "      <th>Gender</th>\n",
       "      <th>Age</th>\n",
       "      <th>Height</th>\n",
       "      <th>Weight</th>\n",
       "      <th>family_history_with_overweight</th>\n",
       "      <th>FAVC</th>\n",
       "      <th>FCVC</th>\n",
       "      <th>NCP</th>\n",
       "      <th>CAEC</th>\n",
       "      <th>SMOKE</th>\n",
       "      <th>CH2O</th>\n",
       "      <th>SCC</th>\n",
       "      <th>FAF</th>\n",
       "      <th>TUE</th>\n",
       "      <th>CALC</th>\n",
       "      <th>MTRANS</th>\n",
       "    </tr>\n",
       "  </thead>\n",
       "  <tbody>\n",
       "    <tr>\n",
       "      <th>0</th>\n",
       "      <td>Female</td>\n",
       "      <td>21.000000</td>\n",
       "      <td>1.620000</td>\n",
       "      <td>64.000000</td>\n",
       "      <td>yes</td>\n",
       "      <td>no</td>\n",
       "      <td>2.0</td>\n",
       "      <td>3.0</td>\n",
       "      <td>Sometimes</td>\n",
       "      <td>no</td>\n",
       "      <td>2.000000</td>\n",
       "      <td>no</td>\n",
       "      <td>0.000000</td>\n",
       "      <td>1.000000</td>\n",
       "      <td>no</td>\n",
       "      <td>Public_Transportation</td>\n",
       "    </tr>\n",
       "    <tr>\n",
       "      <th>1</th>\n",
       "      <td>Female</td>\n",
       "      <td>21.000000</td>\n",
       "      <td>1.520000</td>\n",
       "      <td>56.000000</td>\n",
       "      <td>yes</td>\n",
       "      <td>no</td>\n",
       "      <td>3.0</td>\n",
       "      <td>3.0</td>\n",
       "      <td>Sometimes</td>\n",
       "      <td>yes</td>\n",
       "      <td>3.000000</td>\n",
       "      <td>yes</td>\n",
       "      <td>3.000000</td>\n",
       "      <td>0.000000</td>\n",
       "      <td>Sometimes</td>\n",
       "      <td>Public_Transportation</td>\n",
       "    </tr>\n",
       "    <tr>\n",
       "      <th>2</th>\n",
       "      <td>Male</td>\n",
       "      <td>23.000000</td>\n",
       "      <td>1.800000</td>\n",
       "      <td>77.000000</td>\n",
       "      <td>yes</td>\n",
       "      <td>no</td>\n",
       "      <td>2.0</td>\n",
       "      <td>3.0</td>\n",
       "      <td>Sometimes</td>\n",
       "      <td>no</td>\n",
       "      <td>2.000000</td>\n",
       "      <td>no</td>\n",
       "      <td>2.000000</td>\n",
       "      <td>1.000000</td>\n",
       "      <td>Frequently</td>\n",
       "      <td>Public_Transportation</td>\n",
       "    </tr>\n",
       "    <tr>\n",
       "      <th>3</th>\n",
       "      <td>Male</td>\n",
       "      <td>27.000000</td>\n",
       "      <td>1.800000</td>\n",
       "      <td>87.000000</td>\n",
       "      <td>no</td>\n",
       "      <td>no</td>\n",
       "      <td>3.0</td>\n",
       "      <td>3.0</td>\n",
       "      <td>Sometimes</td>\n",
       "      <td>no</td>\n",
       "      <td>2.000000</td>\n",
       "      <td>no</td>\n",
       "      <td>2.000000</td>\n",
       "      <td>0.000000</td>\n",
       "      <td>Frequently</td>\n",
       "      <td>Walking</td>\n",
       "    </tr>\n",
       "    <tr>\n",
       "      <th>4</th>\n",
       "      <td>Male</td>\n",
       "      <td>22.000000</td>\n",
       "      <td>1.780000</td>\n",
       "      <td>89.800000</td>\n",
       "      <td>no</td>\n",
       "      <td>no</td>\n",
       "      <td>2.0</td>\n",
       "      <td>1.0</td>\n",
       "      <td>Sometimes</td>\n",
       "      <td>no</td>\n",
       "      <td>2.000000</td>\n",
       "      <td>no</td>\n",
       "      <td>0.000000</td>\n",
       "      <td>0.000000</td>\n",
       "      <td>Sometimes</td>\n",
       "      <td>Public_Transportation</td>\n",
       "    </tr>\n",
       "    <tr>\n",
       "      <th>...</th>\n",
       "      <td>...</td>\n",
       "      <td>...</td>\n",
       "      <td>...</td>\n",
       "      <td>...</td>\n",
       "      <td>...</td>\n",
       "      <td>...</td>\n",
       "      <td>...</td>\n",
       "      <td>...</td>\n",
       "      <td>...</td>\n",
       "      <td>...</td>\n",
       "      <td>...</td>\n",
       "      <td>...</td>\n",
       "      <td>...</td>\n",
       "      <td>...</td>\n",
       "      <td>...</td>\n",
       "      <td>...</td>\n",
       "    </tr>\n",
       "    <tr>\n",
       "      <th>2106</th>\n",
       "      <td>Female</td>\n",
       "      <td>20.976842</td>\n",
       "      <td>1.710730</td>\n",
       "      <td>131.408528</td>\n",
       "      <td>yes</td>\n",
       "      <td>yes</td>\n",
       "      <td>3.0</td>\n",
       "      <td>3.0</td>\n",
       "      <td>Sometimes</td>\n",
       "      <td>no</td>\n",
       "      <td>1.728139</td>\n",
       "      <td>no</td>\n",
       "      <td>1.676269</td>\n",
       "      <td>0.906247</td>\n",
       "      <td>Sometimes</td>\n",
       "      <td>Public_Transportation</td>\n",
       "    </tr>\n",
       "    <tr>\n",
       "      <th>2107</th>\n",
       "      <td>Female</td>\n",
       "      <td>21.982942</td>\n",
       "      <td>1.748584</td>\n",
       "      <td>133.742943</td>\n",
       "      <td>yes</td>\n",
       "      <td>yes</td>\n",
       "      <td>3.0</td>\n",
       "      <td>3.0</td>\n",
       "      <td>Sometimes</td>\n",
       "      <td>no</td>\n",
       "      <td>2.005130</td>\n",
       "      <td>no</td>\n",
       "      <td>1.341390</td>\n",
       "      <td>0.599270</td>\n",
       "      <td>Sometimes</td>\n",
       "      <td>Public_Transportation</td>\n",
       "    </tr>\n",
       "    <tr>\n",
       "      <th>2108</th>\n",
       "      <td>Female</td>\n",
       "      <td>22.524036</td>\n",
       "      <td>1.752206</td>\n",
       "      <td>133.689352</td>\n",
       "      <td>yes</td>\n",
       "      <td>yes</td>\n",
       "      <td>3.0</td>\n",
       "      <td>3.0</td>\n",
       "      <td>Sometimes</td>\n",
       "      <td>no</td>\n",
       "      <td>2.054193</td>\n",
       "      <td>no</td>\n",
       "      <td>1.414209</td>\n",
       "      <td>0.646288</td>\n",
       "      <td>Sometimes</td>\n",
       "      <td>Public_Transportation</td>\n",
       "    </tr>\n",
       "    <tr>\n",
       "      <th>2109</th>\n",
       "      <td>Female</td>\n",
       "      <td>24.361936</td>\n",
       "      <td>1.739450</td>\n",
       "      <td>133.346641</td>\n",
       "      <td>yes</td>\n",
       "      <td>yes</td>\n",
       "      <td>3.0</td>\n",
       "      <td>3.0</td>\n",
       "      <td>Sometimes</td>\n",
       "      <td>no</td>\n",
       "      <td>2.852339</td>\n",
       "      <td>no</td>\n",
       "      <td>1.139107</td>\n",
       "      <td>0.586035</td>\n",
       "      <td>Sometimes</td>\n",
       "      <td>Public_Transportation</td>\n",
       "    </tr>\n",
       "    <tr>\n",
       "      <th>2110</th>\n",
       "      <td>Female</td>\n",
       "      <td>23.664709</td>\n",
       "      <td>1.738836</td>\n",
       "      <td>133.472641</td>\n",
       "      <td>yes</td>\n",
       "      <td>yes</td>\n",
       "      <td>3.0</td>\n",
       "      <td>3.0</td>\n",
       "      <td>Sometimes</td>\n",
       "      <td>no</td>\n",
       "      <td>2.863513</td>\n",
       "      <td>no</td>\n",
       "      <td>1.026452</td>\n",
       "      <td>0.714137</td>\n",
       "      <td>Sometimes</td>\n",
       "      <td>Public_Transportation</td>\n",
       "    </tr>\n",
       "  </tbody>\n",
       "</table>\n",
       "<p>2111 rows × 16 columns</p>\n",
       "</div>"
      ],
      "text/plain": [
       "      Gender        Age    Height      Weight family_history_with_overweight  \\\n",
       "0     Female  21.000000  1.620000   64.000000                            yes   \n",
       "1     Female  21.000000  1.520000   56.000000                            yes   \n",
       "2       Male  23.000000  1.800000   77.000000                            yes   \n",
       "3       Male  27.000000  1.800000   87.000000                             no   \n",
       "4       Male  22.000000  1.780000   89.800000                             no   \n",
       "...      ...        ...       ...         ...                            ...   \n",
       "2106  Female  20.976842  1.710730  131.408528                            yes   \n",
       "2107  Female  21.982942  1.748584  133.742943                            yes   \n",
       "2108  Female  22.524036  1.752206  133.689352                            yes   \n",
       "2109  Female  24.361936  1.739450  133.346641                            yes   \n",
       "2110  Female  23.664709  1.738836  133.472641                            yes   \n",
       "\n",
       "     FAVC  FCVC  NCP       CAEC SMOKE      CH2O  SCC       FAF       TUE  \\\n",
       "0      no   2.0  3.0  Sometimes    no  2.000000   no  0.000000  1.000000   \n",
       "1      no   3.0  3.0  Sometimes   yes  3.000000  yes  3.000000  0.000000   \n",
       "2      no   2.0  3.0  Sometimes    no  2.000000   no  2.000000  1.000000   \n",
       "3      no   3.0  3.0  Sometimes    no  2.000000   no  2.000000  0.000000   \n",
       "4      no   2.0  1.0  Sometimes    no  2.000000   no  0.000000  0.000000   \n",
       "...   ...   ...  ...        ...   ...       ...  ...       ...       ...   \n",
       "2106  yes   3.0  3.0  Sometimes    no  1.728139   no  1.676269  0.906247   \n",
       "2107  yes   3.0  3.0  Sometimes    no  2.005130   no  1.341390  0.599270   \n",
       "2108  yes   3.0  3.0  Sometimes    no  2.054193   no  1.414209  0.646288   \n",
       "2109  yes   3.0  3.0  Sometimes    no  2.852339   no  1.139107  0.586035   \n",
       "2110  yes   3.0  3.0  Sometimes    no  2.863513   no  1.026452  0.714137   \n",
       "\n",
       "            CALC                 MTRANS  \n",
       "0             no  Public_Transportation  \n",
       "1      Sometimes  Public_Transportation  \n",
       "2     Frequently  Public_Transportation  \n",
       "3     Frequently                Walking  \n",
       "4      Sometimes  Public_Transportation  \n",
       "...          ...                    ...  \n",
       "2106   Sometimes  Public_Transportation  \n",
       "2107   Sometimes  Public_Transportation  \n",
       "2108   Sometimes  Public_Transportation  \n",
       "2109   Sometimes  Public_Transportation  \n",
       "2110   Sometimes  Public_Transportation  \n",
       "\n",
       "[2111 rows x 16 columns]"
      ]
     },
     "execution_count": 27,
     "metadata": {},
     "output_type": "execute_result"
    }
   ],
   "source": [
    "X"
   ]
  },
  {
   "cell_type": "code",
   "execution_count": 28,
   "id": "daefd4d6-1762-41ea-b97b-817f615d1ca8",
   "metadata": {},
   "outputs": [
    {
     "data": {
      "text/html": [
       "<div>\n",
       "<style scoped>\n",
       "    .dataframe tbody tr th:only-of-type {\n",
       "        vertical-align: middle;\n",
       "    }\n",
       "\n",
       "    .dataframe tbody tr th {\n",
       "        vertical-align: top;\n",
       "    }\n",
       "\n",
       "    .dataframe thead th {\n",
       "        text-align: right;\n",
       "    }\n",
       "</style>\n",
       "<table border=\"1\" class=\"dataframe\">\n",
       "  <thead>\n",
       "    <tr style=\"text-align: right;\">\n",
       "      <th></th>\n",
       "      <th>NObeyesdad</th>\n",
       "    </tr>\n",
       "  </thead>\n",
       "  <tbody>\n",
       "    <tr>\n",
       "      <th>0</th>\n",
       "      <td>Normal_Weight</td>\n",
       "    </tr>\n",
       "    <tr>\n",
       "      <th>1</th>\n",
       "      <td>Normal_Weight</td>\n",
       "    </tr>\n",
       "    <tr>\n",
       "      <th>2</th>\n",
       "      <td>Normal_Weight</td>\n",
       "    </tr>\n",
       "    <tr>\n",
       "      <th>3</th>\n",
       "      <td>Overweight_Level_I</td>\n",
       "    </tr>\n",
       "    <tr>\n",
       "      <th>4</th>\n",
       "      <td>Overweight_Level_II</td>\n",
       "    </tr>\n",
       "    <tr>\n",
       "      <th>...</th>\n",
       "      <td>...</td>\n",
       "    </tr>\n",
       "    <tr>\n",
       "      <th>2106</th>\n",
       "      <td>Obesity_Type_III</td>\n",
       "    </tr>\n",
       "    <tr>\n",
       "      <th>2107</th>\n",
       "      <td>Obesity_Type_III</td>\n",
       "    </tr>\n",
       "    <tr>\n",
       "      <th>2108</th>\n",
       "      <td>Obesity_Type_III</td>\n",
       "    </tr>\n",
       "    <tr>\n",
       "      <th>2109</th>\n",
       "      <td>Obesity_Type_III</td>\n",
       "    </tr>\n",
       "    <tr>\n",
       "      <th>2110</th>\n",
       "      <td>Obesity_Type_III</td>\n",
       "    </tr>\n",
       "  </tbody>\n",
       "</table>\n",
       "<p>2111 rows × 1 columns</p>\n",
       "</div>"
      ],
      "text/plain": [
       "               NObeyesdad\n",
       "0           Normal_Weight\n",
       "1           Normal_Weight\n",
       "2           Normal_Weight\n",
       "3      Overweight_Level_I\n",
       "4     Overweight_Level_II\n",
       "...                   ...\n",
       "2106     Obesity_Type_III\n",
       "2107     Obesity_Type_III\n",
       "2108     Obesity_Type_III\n",
       "2109     Obesity_Type_III\n",
       "2110     Obesity_Type_III\n",
       "\n",
       "[2111 rows x 1 columns]"
      ]
     },
     "execution_count": 28,
     "metadata": {},
     "output_type": "execute_result"
    }
   ],
   "source": [
    "y"
   ]
  },
  {
   "cell_type": "markdown",
   "id": "47901c2b-f03f-4ba5-9eac-690d083f17c1",
   "metadata": {},
   "source": [
    "## Exploring Data "
   ]
  },
  {
   "cell_type": "code",
   "execution_count": null,
   "id": "6b5ea086-8f78-468c-b19c-69c0a7def5da",
   "metadata": {},
   "outputs": [],
   "source": [
    "# check shape of data \n",
    "data.shape"
   ]
  },
  {
   "cell_type": "code",
   "execution_count": null,
   "id": "f9f5d7f0-210a-4e86-969d-a80161fc31b9",
   "metadata": {},
   "outputs": [],
   "source": [
    "# dtypes \n",
    "data.dtypes"
   ]
  },
  {
   "cell_type": "code",
   "execution_count": null,
   "id": "413dab67-47df-4bf3-bd6e-cf271fda8207",
   "metadata": {},
   "outputs": [],
   "source": [
    "# info \n",
    "data.info() "
   ]
  },
  {
   "cell_type": "code",
   "execution_count": null,
   "id": "33a57bef-0cf2-4afe-b8b5-e8686b4ceaa9",
   "metadata": {},
   "outputs": [],
   "source": [
    "# check missing data \n",
    "data.isnull().sum() "
   ]
  },
  {
   "cell_type": "markdown",
   "id": "fa8e5df1-74ba-4858-b7f3-727f800ef4fd",
   "metadata": {
    "tags": []
   },
   "source": [
    "## Descriptive statistics"
   ]
  },
  {
   "cell_type": "code",
   "execution_count": null,
   "id": "abf89de2-74f5-48f3-9306-102820f4f1de",
   "metadata": {},
   "outputs": [],
   "source": [
    "# select numeric data \n",
    "num_cols = data.select_dtypes(exclude = 'object')\n",
    "num_cols.head() "
   ]
  },
  {
   "cell_type": "code",
   "execution_count": null,
   "id": "283dc312-6c76-4469-8450-4640b4f46c71",
   "metadata": {},
   "outputs": [],
   "source": [
    "num_cols.columns"
   ]
  },
  {
   "cell_type": "code",
   "execution_count": null,
   "id": "e358e734-3578-4537-9287-0fcfea157d9f",
   "metadata": {},
   "outputs": [],
   "source": [
    "# summary statistics of numerical variables \n",
    "rp.summary_cont(num_cols[['radius_mean', 'texture_mean', 'perimeter_mean', 'area_mean',\n",
    "       'smoothness_mean', 'compactness_mean', 'concavity_mean',\n",
    "       'concave points_mean', 'symmetry_mean', 'fractal_dimension_mean',\n",
    "       'radius_se', 'texture_se', 'perimeter_se', 'area_se', 'smoothness_se',\n",
    "       'compactness_se', 'concavity_se', 'concave points_se', 'symmetry_se',\n",
    "       'fractal_dimension_se', 'radius_worst', 'texture_worst',\n",
    "       'perimeter_worst', 'area_worst', 'smoothness_worst',\n",
    "       'compactness_worst', 'concavity_worst', 'concave points_worst',\n",
    "       'symmetry_worst', 'fractal_dimension_worst']])"
   ]
  },
  {
   "cell_type": "code",
   "execution_count": null,
   "id": "f78e05db-c0d5-41ac-978d-56ca4fa426c2",
   "metadata": {},
   "outputs": [],
   "source": [
    "# select categorical data \n",
    "cat_cols = data.select_dtypes(include = 'object')\n",
    "cat_cols.head() "
   ]
  },
  {
   "cell_type": "code",
   "execution_count": null,
   "id": "e1a2de33-5703-4603-af6e-07a276215f39",
   "metadata": {},
   "outputs": [],
   "source": [
    "cat_cols.columns"
   ]
  },
  {
   "cell_type": "code",
   "execution_count": null,
   "id": "2f7c1425-6482-40b4-8f2c-86645774ef22",
   "metadata": {},
   "outputs": [],
   "source": [
    "# summary statistics of categorical variables \n",
    "rp.summary_cat(cat_cols['diagnosis'])"
   ]
  },
  {
   "cell_type": "markdown",
   "id": "eb729989-8409-441b-9a67-f225087d900e",
   "metadata": {},
   "source": [
    "## Correlations between Variables "
   ]
  },
  {
   "cell_type": "code",
   "execution_count": null,
   "id": "5d00e58e-a859-42a0-8133-153031ee82f6",
   "metadata": {},
   "outputs": [],
   "source": [
    "# correlation: Pearson’s by default \n",
    "data.corr(method='pearson')"
   ]
  },
  {
   "cell_type": "markdown",
   "id": "090a75ec-57c3-4794-ac6c-69aa9f9ff598",
   "metadata": {},
   "source": [
    "## Skewness "
   ]
  },
  {
   "cell_type": "code",
   "execution_count": null,
   "id": "ba58d2cc-e76c-4ae1-a5ad-eec09200562a",
   "metadata": {},
   "outputs": [],
   "source": [
    "# skew \n",
    "data.skew() "
   ]
  },
  {
   "cell_type": "markdown",
   "id": "5853abfd-950d-4694-95e1-ef29d446f600",
   "metadata": {},
   "source": [
    "## Data visualizations"
   ]
  },
  {
   "cell_type": "code",
   "execution_count": null,
   "id": "13b72642-0f91-44af-881d-cf472e17d283",
   "metadata": {},
   "outputs": [],
   "source": [
    "# Univariate distributions with histogram\n",
    "data.select_dtypes(exclude = \"object\").hist(figsize=(20,10), edgecolor='black')\n",
    "plt.show() "
   ]
  },
  {
   "cell_type": "code",
   "execution_count": null,
   "id": "36af60ee-c668-48ed-b04f-ff98633fa9ba",
   "metadata": {},
   "outputs": [],
   "source": [
    "# Univariate distributions with density plot \n",
    "data.select_dtypes(exclude = \"object\").plot(kind='density', subplots=True, sharex=False, figsize=(20,10), layout=(6,5))\n",
    "plt.show() "
   ]
  },
  {
   "cell_type": "code",
   "execution_count": null,
   "id": "79a961fd-5aa7-4953-a66a-202c521f1758",
   "metadata": {},
   "outputs": [],
   "source": [
    "# Univariate distributions with box plots \n",
    "data.select_dtypes(exclude = \"object\").plot(kind='box', subplots=True, sharex=False, figsize=(20,10), layout=(6,5))\n",
    "plt.show() "
   ]
  },
  {
   "cell_type": "code",
   "execution_count": null,
   "id": "66f0195b-936c-4fb4-a8c3-7f838ce206a9",
   "metadata": {},
   "outputs": [],
   "source": [
    "# Multivariate plots with correlations \n",
    "plt.figure(figsize=(20,6))\n",
    "corr = data.corr() \n",
    "sns.heatmap(corr, annot=True)\n",
    "plt.show()"
   ]
  },
  {
   "cell_type": "markdown",
   "id": "c531d5d9-5b34-4896-80b1-08ce766cbbbe",
   "metadata": {},
   "source": [
    "## Setup "
   ]
  },
  {
   "cell_type": "code",
   "execution_count": null,
   "id": "958ee088-215c-48fb-9695-0660fd706db7",
   "metadata": {},
   "outputs": [],
   "source": [
    "# exmine first few rows of data \n",
    "data.head() "
   ]
  },
  {
   "cell_type": "code",
   "execution_count": null,
   "id": "8395aebb-0f36-4ddb-bdb4-bbbde683eddd",
   "metadata": {},
   "outputs": [],
   "source": [
    "# import pycaret classification and init setup\n",
    "from pycaret.classification import *\n",
    "setup(data, target = 'diagnosis', session_id = 123)"
   ]
  },
  {
   "cell_type": "markdown",
   "id": "2995b392-ee8d-47bf-812b-566618871b06",
   "metadata": {},
   "source": [
    "## Compare Models "
   ]
  },
  {
   "cell_type": "code",
   "execution_count": null,
   "id": "99d089ca-e534-4dbe-a76d-d8a2c5a62ac6",
   "metadata": {},
   "outputs": [],
   "source": [
    "# compare baseline models\n",
    "best = compare_models()"
   ]
  },
  {
   "cell_type": "markdown",
   "id": "1b43e5f9-988e-43ff-a7cc-cb963b1b6cf5",
   "metadata": {},
   "source": [
    "## Create Model "
   ]
  },
  {
   "cell_type": "code",
   "execution_count": null,
   "id": "ea0b40ce-1a8b-48ba-8aff-667ba42cb670",
   "metadata": {},
   "outputs": [],
   "source": [
    "# create model \n",
    "et = create_model('et')"
   ]
  },
  {
   "cell_type": "code",
   "execution_count": null,
   "id": "71e57f17-bd42-44dc-bedc-106748c604b1",
   "metadata": {},
   "outputs": [],
   "source": [
    "# print model parameters\n",
    "print(et)"
   ]
  },
  {
   "cell_type": "markdown",
   "id": "15f3e9bb-6ae2-4ab8-b2dc-21431aa70664",
   "metadata": {},
   "source": [
    "## Tune Model "
   ]
  },
  {
   "cell_type": "code",
   "execution_count": null,
   "id": "c55b7b6a-08a8-4a2a-a61d-9bcba8725a61",
   "metadata": {},
   "outputs": [],
   "source": [
    "# tune hyperparameters of rf\n",
    "tuned_et = tune_model(et)"
   ]
  },
  {
   "cell_type": "code",
   "execution_count": null,
   "id": "bb2ff7c3-4d89-40aa-9391-4be6f08c464f",
   "metadata": {},
   "outputs": [],
   "source": [
    "# to access the tuner object you can set return_tuner = True\n",
    "tuned_et, tuner = tune_model(et, return_tuner=True)"
   ]
  },
  {
   "cell_type": "code",
   "execution_count": null,
   "id": "20bf4803-8192-4ff3-a667-a51663993fba",
   "metadata": {},
   "outputs": [],
   "source": [
    "tuned_et"
   ]
  },
  {
   "cell_type": "code",
   "execution_count": null,
   "id": "3ab6aef4-0732-4430-9970-356d9ebd904a",
   "metadata": {},
   "outputs": [],
   "source": [
    "tuner"
   ]
  },
  {
   "cell_type": "markdown",
   "id": "95b3dca7-5733-412b-86d9-ecb9fd2e9bd3",
   "metadata": {},
   "source": [
    "## Analyze Model "
   ]
  },
  {
   "cell_type": "code",
   "execution_count": null,
   "id": "1d0b5c24-8ce9-4e6c-a65d-bbb093a7ebde",
   "metadata": {},
   "outputs": [],
   "source": [
    "# plot confusion matrix\n",
    "plot_model(et, plot = 'confusion_matrix')"
   ]
  },
  {
   "cell_type": "code",
   "execution_count": null,
   "id": "89077748-318d-450a-a771-95671fad000b",
   "metadata": {},
   "outputs": [],
   "source": [
    "# plot AUC\n",
    "plot_model(et, plot = 'auc')"
   ]
  },
  {
   "cell_type": "code",
   "execution_count": null,
   "id": "de9ad4da-d752-403d-9d88-c72df40cffa9",
   "metadata": {},
   "outputs": [],
   "source": [
    "# plot class report\n",
    "plot_model(et, plot = 'class_report')"
   ]
  },
  {
   "cell_type": "code",
   "execution_count": null,
   "id": "3cb414d6-95ad-4f4a-b87c-7f2e747e9841",
   "metadata": {},
   "outputs": [],
   "source": [
    "# plot feature importance\n",
    "plot_model(et, plot = 'feature')"
   ]
  },
  {
   "cell_type": "markdown",
   "id": "4dae54ac-3d52-411f-9398-4cb4c8f9dceb",
   "metadata": {},
   "source": [
    "## Evaluate Model "
   ]
  },
  {
   "cell_type": "code",
   "execution_count": null,
   "id": "8204d97d-ad75-44b9-81e7-ec97c817c14e",
   "metadata": {},
   "outputs": [],
   "source": [
    "# evaluate model \n",
    "evaluate_model(et)"
   ]
  },
  {
   "cell_type": "markdown",
   "id": "1ce687a0-a9b1-418d-98d9-5f1591809db5",
   "metadata": {},
   "source": [
    "## Finalize Model "
   ]
  },
  {
   "cell_type": "code",
   "execution_count": null,
   "id": "24c84bab-e4b3-498d-bedf-c06697bd9dd7",
   "metadata": {},
   "outputs": [],
   "source": [
    "# finalize a model\n",
    "finalize_model(et)"
   ]
  },
  {
   "cell_type": "markdown",
   "id": "53a543b7-898f-4889-adbd-3cfca132cb88",
   "metadata": {},
   "source": [
    "## Prediction"
   ]
  },
  {
   "cell_type": "code",
   "execution_count": null,
   "id": "74caf2eb-7fcd-425c-8fcc-590d8626829a",
   "metadata": {},
   "outputs": [],
   "source": [
    "# predict on test set\n",
    "holdout_pred = predict_model(et)"
   ]
  },
  {
   "cell_type": "code",
   "execution_count": null,
   "id": "8de62328-4010-4763-87ac-fb8f5e842aca",
   "metadata": {},
   "outputs": [],
   "source": [
    "# show predictions df\n",
    "holdout_pred.head()"
   ]
  },
  {
   "cell_type": "code",
   "execution_count": null,
   "id": "8577a025-fd59-484e-89ab-9852cf18b523",
   "metadata": {},
   "outputs": [],
   "source": [
    "# copy data and drop Class variable\n",
    "new_data = data.copy()\n",
    "new_data.drop('diagnosis', axis=1, inplace=True)\n",
    "new_data.head()"
   ]
  },
  {
   "cell_type": "code",
   "execution_count": null,
   "id": "f0c3187e-a3ad-4463-80db-5268448313f3",
   "metadata": {},
   "outputs": [],
   "source": [
    "# predict model on new_data\n",
    "predictions = predict_model(best, data = new_data)\n",
    "predictions.head()"
   ]
  },
  {
   "cell_type": "markdown",
   "id": "c67ebe2a-705d-4f9c-af4b-eb7ade202e34",
   "metadata": {},
   "source": [
    "## Save Model "
   ]
  },
  {
   "cell_type": "code",
   "execution_count": null,
   "id": "c04f0912-d07b-4ed5-88d4-282438597b96",
   "metadata": {},
   "outputs": [],
   "source": [
    "# save pipeline\n",
    "save_model(et, '../models/breast_cancer')"
   ]
  },
  {
   "cell_type": "code",
   "execution_count": null,
   "id": "8fa54ced-a3ac-4b06-a075-d787490b7dfb",
   "metadata": {},
   "outputs": [],
   "source": [
    "# load pipeline\n",
    "loaded_best_pipeline = load_model('../models/breast_cancer')\n",
    "loaded_best_pipeline"
   ]
  }
 ],
 "metadata": {
  "kernelspec": {
   "display_name": "Python 3 (ipykernel)",
   "language": "python",
   "name": "python3"
  },
  "language_info": {
   "codemirror_mode": {
    "name": "ipython",
    "version": 3
   },
   "file_extension": ".py",
   "mimetype": "text/x-python",
   "name": "python",
   "nbconvert_exporter": "python",
   "pygments_lexer": "ipython3",
   "version": "3.11.7"
  },
  "widgets": {
   "application/vnd.jupyter.widget-state+json": {
    "state": {},
    "version_major": 2,
    "version_minor": 0
   }
  }
 },
 "nbformat": 4,
 "nbformat_minor": 5
}
