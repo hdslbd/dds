


# Load libraries
import numpy as np 
import pandas as pd
import matplotlib.pyplot as plt 
import seaborn as sns 


# Load dataset
data = pd.read_csv("../data/diabetes.csv")





# check shape of data 
data.shape


# dtypes 
data.dtypes


# info 
data.info() 


# check missing data 
data.isnull().sum() 


data['Outcome'] = data['Outcome'].astype('object')





# select numeric data 
num_cols = data.select_dtypes(exclude = 'object')
num_cols.head() 


num_cols.columns


# summary statistics of numerical variables 
num_cols.describe()


# select categorical data 
cat_cols = data.select_dtypes(include = 'object')
cat_cols.head() 


cat_cols.columns


# summary statistics of categorical variables 
cat_cols.describe()





# correlation: Pearson’s by default 
data.corr(method='pearson')





# skew 
data.skew() 





# Univariate distributions with histogram
data.select_dtypes(exclude = "object").hist(figsize=(20,10), edgecolor='black')
plt.show() 


# Univariate distributions with density plot 
data.select_dtypes(exclude = "object").plot(kind='density', subplots=True, sharex=False, figsize=(20,10), layout=(6,5))
plt.show() 


# Univariate distributions with box plots 
data.select_dtypes(exclude = "object").plot(kind='box', subplots=True, sharex=False, figsize=(20,10), layout=(6,5))
plt.show() 


# Multivariate plots with correlations 
plt.figure(figsize=(20,6))
corr = data.corr() 
sns.heatmap(corr, annot=True)
plt.show()





# exmine first few rows of data 
data.head() 


# import pycaret classification and init setup
from pycaret.classification import *
setup(
    data, 
    target = 'Outcome', 
    session_id = 123, 
    train_size=.70, 
    numeric_imputation='mean', 
    categorical_imputation='mode', 
    preprocess=True, 
    normalize=True, 
    remove_outliers=True
)


get_config()





# compare baseline models
best = compare_models()





# create model 
lr = create_model('lr')


# print model parameters
print(lr)





# tune hyperparameters of rf
tuned_lr = tune_model(lr, optimize = 'Accuracy')


# to access the tuner object you can set return_tuner = True
tuned_lr, tuner = tune_model(lr, return_tuner=True)


tuned_lr


tuner


ensemble_model(lr)





# plot confusion matrix
plot_model(lr, plot = 'confusion_matrix')


# plot AUC
plot_model(lr, plot = 'auc')


# plot class report
plot_model(lr, plot = 'class_report')


# plot feature importance
plot_model(lr, plot = 'feature')





# evaluate model 
evaluate_model(lr)





# finalize a model
finalize_model(lr)





# predict on test set
holdout_pred = predict_model(lr)


# show predictions df
holdout_pred.head()


# copy data and drop Class variable
new_data = data.copy()
new_data.drop('Outcome', axis=1, inplace=True)
new_data.head()


# predict model on new_data
predictions = predict_model(best, data = new_data)
predictions.head()





# save pipeline
save_model(et, '../models/breast_cancer')


# load pipeline
loaded_best_pipeline = load_model('../models/breast_cancer')
loaded_best_pipeline
