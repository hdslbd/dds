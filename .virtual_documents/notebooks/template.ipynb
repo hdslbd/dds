


# Load libraries
import numpy as np 
import pandas as pd
import researchpy as rp 
import matplotlib.pyplot as plt 
import seaborn as sns 


from ucimlrepo import fetch_ucirepo 
  
# fetch dataset 
estimation_of_obesity_levels_based_on_eating_habits_and_physical_condition = fetch_ucirepo(id=544) 
  
# data (as pandas dataframes) 
X = estimation_of_obesity_levels_based_on_eating_habits_and_physical_condition.data.features 
y = estimation_of_obesity_levels_based_on_eating_habits_and_physical_condition.data.targets 
  


X


y





# check shape of data 
data.shape


# dtypes 
data.dtypes


# info 
data.info() 


# check missing data 
data.isnull().sum() 





# select numeric data 
num_cols = data.select_dtypes(exclude = 'object')
num_cols.head() 


num_cols.columns


# summary statistics of numerical variables 
rp.summary_cont(num_cols[['radius_mean', 'texture_mean', 'perimeter_mean', 'area_mean',
       'smoothness_mean', 'compactness_mean', 'concavity_mean',
       'concave points_mean', 'symmetry_mean', 'fractal_dimension_mean',
       'radius_se', 'texture_se', 'perimeter_se', 'area_se', 'smoothness_se',
       'compactness_se', 'concavity_se', 'concave points_se', 'symmetry_se',
       'fractal_dimension_se', 'radius_worst', 'texture_worst',
       'perimeter_worst', 'area_worst', 'smoothness_worst',
       'compactness_worst', 'concavity_worst', 'concave points_worst',
       'symmetry_worst', 'fractal_dimension_worst']])


# select categorical data 
cat_cols = data.select_dtypes(include = 'object')
cat_cols.head() 


cat_cols.columns


# summary statistics of categorical variables 
rp.summary_cat(cat_cols['diagnosis'])





# correlation: Pearson’s by default 
data.corr(method='pearson')





# skew 
data.skew() 





# Univariate distributions with histogram
data.select_dtypes(exclude = "object").hist(figsize=(20,10), edgecolor='black')
plt.show() 


# Univariate distributions with density plot 
data.select_dtypes(exclude = "object").plot(kind='density', subplots=True, sharex=False, figsize=(20,10), layout=(6,5))
plt.show() 


# Univariate distributions with box plots 
data.select_dtypes(exclude = "object").plot(kind='box', subplots=True, sharex=False, figsize=(20,10), layout=(6,5))
plt.show() 


# Multivariate plots with correlations 
plt.figure(figsize=(20,6))
corr = data.corr() 
sns.heatmap(corr, annot=True)
plt.show()





# exmine first few rows of data 
data.head() 


# import pycaret classification and init setup
from pycaret.classification import *
setup(data, target = 'diagnosis', session_id = 123)





# compare baseline models
best = compare_models()





# create model 
et = create_model('et')


# print model parameters
print(et)





# tune hyperparameters of rf
tuned_et = tune_model(et)


# to access the tuner object you can set return_tuner = True
tuned_et, tuner = tune_model(et, return_tuner=True)


tuned_et


tuner





# plot confusion matrix
plot_model(et, plot = 'confusion_matrix')


# plot AUC
plot_model(et, plot = 'auc')


# plot class report
plot_model(et, plot = 'class_report')


# plot feature importance
plot_model(et, plot = 'feature')





# evaluate model 
evaluate_model(et)





# finalize a model
finalize_model(et)





# predict on test set
holdout_pred = predict_model(et)


# show predictions df
holdout_pred.head()


# copy data and drop Class variable
new_data = data.copy()
new_data.drop('diagnosis', axis=1, inplace=True)
new_data.head()


# predict model on new_data
predictions = predict_model(best, data = new_data)
predictions.head()





# save pipeline
save_model(et, '../models/breast_cancer')


# load pipeline
loaded_best_pipeline = load_model('../models/breast_cancer')
loaded_best_pipeline
